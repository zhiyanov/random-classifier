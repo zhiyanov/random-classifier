{
 "cells": [
  {
   "cell_type": "code",
   "execution_count": 7,
   "id": "06c3fd3d-644d-443d-82d8-ee8a5e6ccc34",
   "metadata": {},
   "outputs": [],
   "source": [
    "import numpy as np\n",
    "import pandas as pd\n",
    "import tqdm\n",
    "import time\n",
    "import pickle\n",
    "\n",
    "from scipy.special import comb as binom\n",
    "from lib import svm_proba\n",
    "from lib import enm_proba_exact\n",
    "from lib import enm_proba_apprx\n",
    "\n",
    "import matplotlib.pyplot as plt\n",
    "import seaborn as sns"
   ]
  },
  {
   "cell_type": "code",
   "execution_count": 2,
   "id": "2437803a-e746-40bf-b45c-0d4f7616280a",
   "metadata": {},
   "outputs": [],
   "source": [
    "ERRNUM = 0\n",
    "EPS = 1e-2\n",
    "\n",
    "np.random.seed(8098)"
   ]
  },
  {
   "cell_type": "code",
   "execution_count": 3,
   "id": "21d5ef3f-21a6-49c8-8578-52ad8f7a7bf1",
   "metadata": {},
   "outputs": [],
   "source": [
    "def frac(a, b):\n",
    "    if b:\n",
    "        return a / b\n",
    "    else:\n",
    "        return 0\n",
    "\n",
    "def plot(X, y, path):\n",
    "    fig, ax = plt.subplots()\n",
    "    ax.scatter(X[y == 0, 0], X[y == 0, 1], c=\"r\")\n",
    "    ax.scatter(X[y == 1, 0], X[y == 1, 1], c=\"g\")\n",
    "\n",
    "    for i in range(len(y)):\n",
    "        ax.annotate(str(i), (X[i, 0], X[i, 1]))\n",
    "\n",
    "    fig.savefig(path)\n",
    "        \n",
    "def upper(X, y, errnum, eps):\n",
    "    n = y.sum() # ones number\n",
    "    m = len(y) - y.sum() # zeros number\n",
    "    mlt = 2 * binom(n + m, 2) / binom(n + m, n)\n",
    "    return mlt\n",
    "\n",
    "def lower(X, y, errnum, eps):\n",
    "    n = y.sum() # ones number\n",
    "    m = len(y) - y.sum() # zeros number\n",
    "    mlt = (n + m) / binom(n + m, n)\n",
    "    return mlt\n",
    "\n",
    "def svm(X, y, errnum, eps):\n",
    "    return frac(*svm_proba(X, y, errnum, eps))\n",
    "\n",
    "def approx(X, y, errnum, eps):\n",
    "    return frac(*enm_proba_apprx(X, y, errnum, eps))\n",
    "\n",
    "def exact(X, y, errnum, eps):\n",
    "    return frac(*enm_proba_exact(X, y))"
   ]
  },
  {
   "cell_type": "code",
   "execution_count": 4,
   "id": "d5a4c446-58e5-4cbf-bef0-e07e545cfe5a",
   "metadata": {},
   "outputs": [],
   "source": [
    "def timer(func, *args, **kwargs):\n",
    "    start = time.time()\n",
    "    result = func(*args, **kwargs)\n",
    "    end = time.time()\n",
    "    return result, end - start"
   ]
  },
  {
   "cell_type": "code",
   "execution_count": 5,
   "id": "b67f4d03-3b6c-49bf-a00d-228c94c251e4",
   "metadata": {},
   "outputs": [],
   "source": [
    "N_MIN, N_MAX = 2, 15\n",
    "COV = np.array([\n",
    "        [1, 0],\n",
    "        [0, 1]\n",
    "])"
   ]
  },
  {
   "cell_type": "code",
   "execution_count": 6,
   "id": "76a6ab95-37be-49fd-a40c-229c570843ed",
   "metadata": {},
   "outputs": [
    {
     "name": "stdout",
     "output_type": "stream",
     "text": [
      "2 2 3.7929270267486572\n",
      "2 3 4.35442590713501\n",
      "2 4 3.9019010066986084\n",
      "2 5 4.356825828552246\n"
     ]
    },
    {
     "ename": "KeyboardInterrupt",
     "evalue": "",
     "output_type": "error",
     "traceback": [
      "\u001b[0;31m---------------------------------------------------------------------------\u001b[0m",
      "\u001b[0;31mKeyboardInterrupt\u001b[0m                         Traceback (most recent call last)",
      "Cell \u001b[0;32mIn[6], line 39\u001b[0m\n\u001b[1;32m     36\u001b[0m y \u001b[38;5;241m=\u001b[39m np\u001b[38;5;241m.\u001b[39mconcatenate([y0, y1], dtype\u001b[38;5;241m=\u001b[39mnp\u001b[38;5;241m.\u001b[39mint32)\n\u001b[1;32m     38\u001b[0m \u001b[38;5;28;01mfor\u001b[39;00m key, func \u001b[38;5;129;01min\u001b[39;00m \u001b[38;5;28mmap\u001b[39m\u001b[38;5;241m.\u001b[39mitems():\n\u001b[0;32m---> 39\u001b[0m     proba, duration \u001b[38;5;241m=\u001b[39m \u001b[43mtimer\u001b[49m\u001b[43m(\u001b[49m\u001b[43mfunc\u001b[49m\u001b[43m,\u001b[49m\u001b[43m \u001b[49m\u001b[43mX\u001b[49m\u001b[43m,\u001b[49m\u001b[43m \u001b[49m\u001b[43my\u001b[49m\u001b[43m,\u001b[49m\u001b[43m \u001b[49m\u001b[43mERRNUM\u001b[49m\u001b[43m,\u001b[49m\u001b[43m \u001b[49m\u001b[43mEPS\u001b[49m\u001b[43m)\u001b[49m\n\u001b[1;32m     40\u001b[0m     bank[key]\u001b[38;5;241m.\u001b[39mappend((proba, duration))\n\u001b[1;32m     42\u001b[0m \u001b[38;5;28mprint\u001b[39m(N0, N1, time\u001b[38;5;241m.\u001b[39mtime() \u001b[38;5;241m-\u001b[39m start)\n",
      "Cell \u001b[0;32mIn[4], line 3\u001b[0m, in \u001b[0;36mtimer\u001b[0;34m(func, *args, **kwargs)\u001b[0m\n\u001b[1;32m      1\u001b[0m \u001b[38;5;28;01mdef\u001b[39;00m \u001b[38;5;21mtimer\u001b[39m(func, \u001b[38;5;241m*\u001b[39margs, \u001b[38;5;241m*\u001b[39m\u001b[38;5;241m*\u001b[39mkwargs):\n\u001b[1;32m      2\u001b[0m     start \u001b[38;5;241m=\u001b[39m time\u001b[38;5;241m.\u001b[39mtime()\n\u001b[0;32m----> 3\u001b[0m     result \u001b[38;5;241m=\u001b[39m \u001b[43mfunc\u001b[49m\u001b[43m(\u001b[49m\u001b[38;5;241;43m*\u001b[39;49m\u001b[43margs\u001b[49m\u001b[43m,\u001b[49m\u001b[43m \u001b[49m\u001b[38;5;241;43m*\u001b[39;49m\u001b[38;5;241;43m*\u001b[39;49m\u001b[43mkwargs\u001b[49m\u001b[43m)\u001b[49m\n\u001b[1;32m      4\u001b[0m     end \u001b[38;5;241m=\u001b[39m time\u001b[38;5;241m.\u001b[39mtime()\n\u001b[1;32m      5\u001b[0m     \u001b[38;5;28;01mreturn\u001b[39;00m result, end \u001b[38;5;241m-\u001b[39m start\n",
      "Cell \u001b[0;32mIn[3], line 30\u001b[0m, in \u001b[0;36msvm\u001b[0;34m(X, y, errnum, eps)\u001b[0m\n\u001b[1;32m     29\u001b[0m \u001b[38;5;28;01mdef\u001b[39;00m \u001b[38;5;21msvm\u001b[39m(X, y, errnum, eps):\n\u001b[0;32m---> 30\u001b[0m     \u001b[38;5;28;01mreturn\u001b[39;00m frac(\u001b[38;5;241m*\u001b[39m\u001b[43msvm_proba\u001b[49m\u001b[43m(\u001b[49m\u001b[43mX\u001b[49m\u001b[43m,\u001b[49m\u001b[43m \u001b[49m\u001b[43my\u001b[49m\u001b[43m,\u001b[49m\u001b[43m \u001b[49m\u001b[43merrnum\u001b[49m\u001b[43m,\u001b[49m\u001b[43m \u001b[49m\u001b[43meps\u001b[49m\u001b[43m)\u001b[49m)\n",
      "File \u001b[0;32m~/random-classifier/lib/lib.py:39\u001b[0m, in \u001b[0;36msvm_proba\u001b[0;34m(X, y, k, eps)\u001b[0m\n\u001b[1;32m     35\u001b[0m iters \u001b[38;5;241m=\u001b[39m \u001b[38;5;28mint\u001b[39m(\u001b[38;5;241m1\u001b[39m \u001b[38;5;241m/\u001b[39m eps\u001b[38;5;241m*\u001b[39m\u001b[38;5;241m*\u001b[39m\u001b[38;5;241m2\u001b[39m)\n\u001b[1;32m     36\u001b[0m \u001b[38;5;28;01mfor\u001b[39;00m i \u001b[38;5;129;01min\u001b[39;00m \u001b[38;5;28mrange\u001b[39m(iters):\n\u001b[1;32m     37\u001b[0m     score \u001b[38;5;241m=\u001b[39m svm_classify(\n\u001b[1;32m     38\u001b[0m             X,\n\u001b[0;32m---> 39\u001b[0m             y[\u001b[43mnp\u001b[49m\u001b[38;5;241;43m.\u001b[39;49m\u001b[43mrandom\u001b[49m\u001b[38;5;241;43m.\u001b[39;49m\u001b[43mpermutation\u001b[49m\u001b[43m(\u001b[49m\u001b[38;5;28;43mlen\u001b[39;49m\u001b[43m(\u001b[49m\u001b[43my\u001b[49m\u001b[43m)\u001b[49m\u001b[43m)\u001b[49m]\n\u001b[1;32m     40\u001b[0m     )\n\u001b[1;32m     42\u001b[0m     \u001b[38;5;28;01mif\u001b[39;00m score \u001b[38;5;241m<\u001b[39m\u001b[38;5;241m=\u001b[39m k:\n\u001b[1;32m     43\u001b[0m         prb \u001b[38;5;241m+\u001b[39m\u001b[38;5;241m=\u001b[39m \u001b[38;5;241m1\u001b[39m\n",
      "\u001b[0;31mKeyboardInterrupt\u001b[0m: "
     ]
    }
   ],
   "source": [
    "bank = {\n",
    "    \"uprs\": [],\n",
    "    \"lwrs\": [],\n",
    "    \"svms\": [],\n",
    "    \"aprx\": [],\n",
    "    \"exct\": []\n",
    "}\n",
    "\n",
    "map = {\n",
    "    \"uprs\": upper,\n",
    "    \"lwrs\": lower,\n",
    "    \"svms\": svm,\n",
    "    \"aprx\": approx,\n",
    "    \"exct\": exact\n",
    "}\n",
    "\n",
    "for N0 in range(N_MIN, N_MAX + 1):\n",
    "    for N1 in range(N_MIN, N_MAX + 1):\n",
    "        start = time.time()\n",
    "        \n",
    "        X0 = np.random.multivariate_normal(\n",
    "            [0, 0],\n",
    "            COV,\n",
    "            size=N0\n",
    "        )\n",
    "        y0 = np.zeros(N0, dtype=int) + 0\n",
    "\n",
    "        X1 = np.random.multivariate_normal(\n",
    "            [0, 0],\n",
    "            COV,\n",
    "            size=N1\n",
    "        )\n",
    "        y1 = np.zeros(N1, dtype=int) + 1\n",
    "\n",
    "        X = np.vstack([X0, X1], dtype=np.float32)\n",
    "        y = np.concatenate([y0, y1], dtype=np.int32)\n",
    "\n",
    "        for key, func in map.items():\n",
    "            proba, duration = timer(func, X, y, ERRNUM, EPS)\n",
    "            bank[key].append((proba, duration))\n",
    "\n",
    "        print(N0, N1, time.time() - start)\n",
    "\n",
    "    "
   ]
  },
  {
   "cell_type": "code",
   "execution_count": null,
   "id": "1af0b339-6d75-4bc3-a940-0d83a33d11eb",
   "metadata": {},
   "outputs": [],
   "source": []
  }
 ],
 "metadata": {
  "kernelspec": {
   "display_name": "Python 3 (ipykernel)",
   "language": "python",
   "name": "python3"
  },
  "language_info": {
   "codemirror_mode": {
    "name": "ipython",
    "version": 3
   },
   "file_extension": ".py",
   "mimetype": "text/x-python",
   "name": "python",
   "nbconvert_exporter": "python",
   "pygments_lexer": "ipython3",
   "version": "3.10.12"
  }
 },
 "nbformat": 4,
 "nbformat_minor": 5
}
