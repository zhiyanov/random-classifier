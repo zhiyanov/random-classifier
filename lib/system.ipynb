{
 "cells": [
  {
   "cell_type": "code",
   "execution_count": 10,
   "id": "cbb223cd-c571-4ae8-849d-c7882d0df9fc",
   "metadata": {},
   "outputs": [],
   "source": [
    "from sympy import solve, symbols\n",
    "from sympy.abc import x, y, z\n",
    "\n",
    "from sympy import init_printing\n",
    "init_printing()"
   ]
  },
  {
   "cell_type": "code",
   "execution_count": 4,
   "id": "7e23b74d-5652-42f0-a10b-7e9b8b389e34",
   "metadata": {},
   "outputs": [],
   "source": [
    "tp, fp = symbols('tp fp')\n",
    "fn, tn = symbols('fn tn')\n",
    "\n",
    "p, n, f, t = symbols('p n f t')\n",
    "\n",
    "k = symbols('k')"
   ]
  },
  {
   "cell_type": "code",
   "execution_count": 20,
   "id": "a119c0e5-7873-43dc-b57f-99c692cc96ab",
   "metadata": {},
   "outputs": [],
   "source": [
    "equations = [\n",
    "    tp + fp - p,\n",
    "    tn + fn - n,\n",
    "    fp + tn - f,\n",
    "    # tp + fn - t,\n",
    "    fp + fn - k,\n",
    "]"
   ]
  },
  {
   "cell_type": "code",
   "execution_count": 21,
   "id": "537e3f66-1e9a-4ee4-a1f4-cc1b60a92f86",
   "metadata": {},
   "outputs": [
    {
     "data": {
      "image/png": "[encoded data removed]",
      "text/latex": [
       "$\\displaystyle \\left\\{ fn : - \\frac{f}{2} + \\frac{k}{2} + \\frac{n}{2}, \\  fp : \\frac{f}{2} + \\frac{k}{2} - \\frac{n}{2}, \\  tn : \\frac{f}{2} - \\frac{k}{2} + \\frac{n}{2}, \\  tp : - \\frac{f}{2} - \\frac{k}{2} + \\frac{n}{2} + p\\right\\}$"
      ],
      "text/plain": [
       "⎧      f   k   n      f   k   n      f   k   n        f   k   n    ⎫\n",
       "⎨fn: - ─ + ─ + ─, fp: ─ + ─ - ─, tn: ─ - ─ + ─, tp: - ─ - ─ + ─ + p⎬\n",
       "⎩      2   2   2      2   2   2      2   2   2        2   2   2    ⎭"
      ]
     },
     "execution_count": 21,
     "metadata": {},
     "output_type": "execute_result"
    }
   ],
   "source": [
    "solve(equations, tp, fp, tn, fn)"
   ]
  },
  {
   "cell_type": "code",
   "execution_count": null,
   "id": "b42720bf-7b0d-46b8-ac06-bd740c1834bf",
   "metadata": {},
   "outputs": [],
   "source": []
  }
 ],
 "metadata": {
  "kernelspec": {
   "display_name": "Python 3 (ipykernel)",
   "language": "python",
   "name": "python3"
  },
  "language_info": {
   "codemirror_mode": {
    "name": "ipython",
    "version": 3
   },
   "file_extension": ".py",
   "mimetype": "text/x-python",
   "name": "python",
   "nbconvert_exporter": "python",
   "pygments_lexer": "ipython3",
   "version": "3.10.12"
  }
 },
 "nbformat": 4,
 "nbformat_minor": 5
}
