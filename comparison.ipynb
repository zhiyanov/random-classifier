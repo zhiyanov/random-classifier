{
 "cells": [
  {
   "cell_type": "code",
   "execution_count": 1,
   "id": "1d6d1a73-65ea-49c8-9e53-e4320325c0eb",
   "metadata": {
    "editable": true,
    "slideshow": {
     "slide_type": ""
    },
    "tags": []
   },
   "outputs": [],
   "source": [
    "import matplotlib.pyplot as plt\n",
    "import seaborn as sns\n",
    "\n",
    "import pandas as pd\n",
    "import numpy as np\n",
    "\n",
    "import os\n",
    "\n",
    "from scipy.special import comb"
   ]
  },
  {
   "cell_type": "code",
   "execution_count": 2,
   "id": "1fc2b36c-e260-435b-b6ab-01490e228a0d",
   "metadata": {},
   "outputs": [],
   "source": [
    "from lib import enm_proba_exact\n",
    "from lib import enm_proba_apprx"
   ]
  },
  {
   "cell_type": "code",
   "execution_count": 3,
   "id": "96f9ba2f-9f47-4211-87ec-9026fd7b0276",
   "metadata": {
    "editable": true,
    "slideshow": {
     "slide_type": ""
    },
    "tags": []
   },
   "outputs": [],
   "source": [
    "import warnings\n",
    "warnings.filterwarnings('ignore')"
   ]
  },
  {
   "cell_type": "code",
   "execution_count": 4,
   "id": "22b6b1be-d340-4b09-91ba-35d5efdca9ed",
   "metadata": {},
   "outputs": [],
   "source": [
    "SEED = 8098\n",
    "np.random.seed(SEED)"
   ]
  },
  {
   "cell_type": "markdown",
   "id": "9db79126-8a54-4dd7-a43e-de6663292682",
   "metadata": {
    "editable": true,
    "slideshow": {
     "slide_type": ""
    },
    "tags": []
   },
   "source": [
    "### Data"
   ]
  },
  {
   "cell_type": "code",
   "execution_count": 28,
   "id": "24882587-35b1-490f-95c2-c298c4731131",
   "metadata": {},
   "outputs": [],
   "source": [
    "N0 = 5\n",
    "N1 = 5"
   ]
  },
  {
   "cell_type": "code",
   "execution_count": 29,
   "id": "f23dcb8c-c984-4882-85fc-d7206fc127a6",
   "metadata": {},
   "outputs": [],
   "source": [
    "X0 = np.random.multivariate_normal(\n",
    "    [0, 0],\n",
    "    [[1, 0], [0, 1]],\n",
    "    size=N0\n",
    ")\n",
    "y0 = np.zeros(N0, dtype=int) + 0\n",
    "\n",
    "X1 = np.random.multivariate_normal(\n",
    "    [0, 0],\n",
    "    [[1, 0], [0, 1]],\n",
    "    size=N1\n",
    ")\n",
    "y1 = np.zeros(N1, dtype=int) + 1\n",
    "\n",
    "X = np.vstack([X0, X1], dtype=np.float32)\n",
    "y = np.concatenate([y0, y1], dtype=np.int32)"
   ]
  },
  {
   "cell_type": "code",
   "execution_count": 30,
   "id": "0c6aacbc-c388-44e6-906f-836fa442f110",
   "metadata": {
    "editable": true,
    "slideshow": {
     "slide_type": ""
    },
    "tags": []
   },
   "outputs": [
    {
     "data": {
      "image/png": "[encoded data removed]",
      "text/plain": [
       "<Figure size 640x480 with 1 Axes>"
      ]
     },
     "metadata": {},
     "output_type": "display_data"
    }
   ],
   "source": [
    "plot_df = pd.DataFrame(data=X)\n",
    "plot_df[\"label\"] = y\n",
    "\n",
    "fig, ax = plt.subplots()\n",
    "\n",
    "sns.scatterplot(data=plot_df,\n",
    "                x=0,\n",
    "                y=1,\n",
    "                hue=\"label\",\n",
    "                ax=ax);"
   ]
  },
  {
   "cell_type": "markdown",
   "id": "6dc5ef34-4c8b-4406-8330-d0b27e449b0f",
   "metadata": {},
   "source": [
    "### Params"
   ]
  },
  {
   "cell_type": "code",
   "execution_count": 31,
   "id": "3edf9cf0-1f74-47d4-b734-bf7a21213fd7",
   "metadata": {},
   "outputs": [],
   "source": [
    "N_THREADS = 64\n",
    "K = 0"
   ]
  },
  {
   "cell_type": "code",
   "execution_count": 32,
   "id": "f05fab82-e617-4040-9a53-8b48ef9613e9",
   "metadata": {},
   "outputs": [
    {
     "name": "stdout",
     "output_type": "stream",
     "text": [
      "12 252 0.047619047619047616\n"
     ]
    },
    {
     "name": "stderr",
     "output_type": "stream",
     "text": [
      "{  0.0%} [                                        ] (0.0s < infs) \n",
      "{  0.0%} [                                        ] (0.0s < infs) \n"
     ]
    }
   ],
   "source": [
    "nom, den = enm_proba_exact(X, y, K, N_THREADS)\n",
    "print(nom, den, nom / den)"
   ]
  },
  {
   "cell_type": "code",
   "execution_count": 33,
   "id": "c9acf936-0b3f-4186-a0c8-487b0dae7ca5",
   "metadata": {},
   "outputs": [
    {
     "name": "stdout",
     "output_type": "stream",
     "text": [
      "454 9985 0.045468202303455184\n"
     ]
    },
    {
     "name": "stderr",
     "output_type": "stream",
     "text": [
      "{ 87.3%} [###################################     ] (1.1s < 0.2s) \n",
      "{  0.0%} [                                        ] (0.0s < infs) \n"
     ]
    }
   ],
   "source": [
    "nom, den = enm_proba_apprx(X, y, K, 1e-2, N_THREADS)\n",
    "print(nom, den, nom / den)"
   ]
  },
  {
   "cell_type": "code",
   "execution_count": 34,
   "id": "2aea7ac7-a65c-4f72-ad7a-2e5e11249060",
   "metadata": {},
   "outputs": [
    {
     "name": "stdout",
     "output_type": "stream",
     "text": [
      "0.056119585808456156\n"
     ]
    }
   ],
   "source": [
    "print(np.sqrt(2) * (N0 + N1) / (comb(N0 + N1, N0)))"
   ]
  },
  {
   "cell_type": "code",
   "execution_count": null,
   "id": "ba316e45-bb4d-438e-b57c-14a807f5f970",
   "metadata": {
    "editable": true,
    "slideshow": {
     "slide_type": ""
    },
    "tags": []
   },
   "outputs": [],
   "source": []
  }
 ],
 "metadata": {
  "kernelspec": {
   "display_name": "Python 3 (ipykernel)",
   "language": "python",
   "name": "python3"
  },
  "language_info": {
   "codemirror_mode": {
    "name": "ipython",
    "version": 3
   },
   "file_extension": ".py",
   "mimetype": "text/x-python",
   "name": "python",
   "nbconvert_exporter": "python",
   "pygments_lexer": "ipython3",
   "version": "3.10.12"
  }
 },
 "nbformat": 4,
 "nbformat_minor": 5
}
