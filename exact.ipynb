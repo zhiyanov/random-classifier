{
 "cells": [
  {
   "cell_type": "code",
   "execution_count": 9,
   "id": "43bad672-c825-4b95-9895-00177baed501",
   "metadata": {},
   "outputs": [],
   "source": [
    "import numpy as np\n",
    "import pandas as pd\n",
    "import tqdm\n",
    "import time\n",
    "import pickle\n",
    "\n",
    "from scipy.special import comb as binom\n",
    "from lib import svm_proba\n",
    "from lib import enm_proba_exact\n",
    "from lib import enm_proba_apprx\n",
    "\n",
    "from concurrent.futures import ThreadPoolExecutor\n",
    "\n",
    "import matplotlib.pyplot as plt\n",
    "import seaborn as sns"
   ]
  },
  {
   "cell_type": "code",
   "execution_count": 2,
   "id": "a1b983f8-8363-42f8-ba19-a7a6c437de39",
   "metadata": {},
   "outputs": [],
   "source": [
    "SEED = 8098\n",
    "np.random.seed(SEED)"
   ]
  },
  {
   "cell_type": "code",
   "execution_count": 3,
   "id": "4bc6c7f7-4771-4d7c-bb0e-feeec646b8a6",
   "metadata": {},
   "outputs": [],
   "source": [
    "def timer(func, *args, **kwargs):\n",
    "    start = time.time()\n",
    "    result = func(*args, **kwargs)\n",
    "    end = time.time()\n",
    "    return result, end - start"
   ]
  },
  {
   "cell_type": "markdown",
   "id": "6e4be67d-821c-4893-ae2f-7b831366f583",
   "metadata": {},
   "source": [
    "## Experiment"
   ]
  },
  {
   "cell_type": "code",
   "execution_count": 15,
   "id": "0b74cd6d-574b-42b9-b7e8-8fef8260798f",
   "metadata": {},
   "outputs": [],
   "source": [
    "N_MIN = 2\n",
    "N_MAX = 5 + 1\n",
    "K = 0\n",
    "\n",
    "N_THREADS = 2"
   ]
  },
  {
   "cell_type": "code",
   "execution_count": 16,
   "id": "6f4d7015-d1ad-41ef-9cd8-73f477dbdd95",
   "metadata": {},
   "outputs": [],
   "source": [
    "def run(N0, N1, k):\n",
    "    X0 = np.random.multivariate_normal(\n",
    "        [0, 0],\n",
    "        [[1, 0], [0, 1]],\n",
    "        size=N0\n",
    "    )\n",
    "    y0 = np.zeros(N0, dtype=int) + 0\n",
    "\n",
    "    X1 = np.random.multivariate_normal(\n",
    "        [0, 0],\n",
    "        [[1, 0], [0, 1]],\n",
    "        size=N1\n",
    "    )\n",
    "    y1 = np.zeros(N1, dtype=int) + 1\n",
    "\n",
    "    X = np.vstack([X0, X1], dtype=np.float32)\n",
    "    y = np.concatenate([y0, y1], dtype=np.int32)\n",
    "\n",
    "    result, time = timer(enm_proba_exact, X, y, k)\n",
    "    nominator, denominator = result\n",
    "\n",
    "    return nominator, denominator, time"
   ]
  },
  {
   "cell_type": "code",
   "execution_count": 17,
   "id": "03cac762-bc49-426e-885d-0b8625aa2bec",
   "metadata": {},
   "outputs": [
    {
     "name": "stderr",
     "output_type": "stream",
     "text": [
      "100%|█████████████████████████████████████████████████████████████████████████████████| 5/5 [00:00<00:00, 79437.58it/s]\n"
     ]
    }
   ],
   "source": [
    "futures = []\n",
    "bank = []\n",
    "\n",
    "with ThreadPoolExecutor(N_THREADS) as pool:\n",
    "    for n in range(N_MIN, N_MAX + 1):\n",
    "        futures.append(pool.submit(run, n, n, K))\n",
    "\n",
    "for future in tqdm.tqdm(futures):\n",
    "    bank.append(future.result())"
   ]
  },
  {
   "cell_type": "code",
   "execution_count": 18,
   "id": "f976ec87-92c8-4669-bcb9-709246b03480",
   "metadata": {},
   "outputs": [
    {
     "name": "stdout",
     "output_type": "stream",
     "text": [
      "[(6, 6, 0.0009398460388183594), (8, 20, 0.0034377574920654297), (12, 70, 0.004848957061767578), (14, 252, 0.01720285415649414), (16, 924, 0.00810694694519043)]\n"
     ]
    }
   ],
   "source": [
    "print(bank)"
   ]
  },
  {
   "cell_type": "code",
   "execution_count": null,
   "id": "51d198ec-4cdf-4e9f-a533-52cc58c83aca",
   "metadata": {},
   "outputs": [],
   "source": []
  }
 ],
 "metadata": {
  "kernelspec": {
   "display_name": "Python 3 (ipykernel)",
   "language": "python",
   "name": "python3"
  },
  "language_info": {
   "codemirror_mode": {
    "name": "ipython",
    "version": 3
   },
   "file_extension": ".py",
   "mimetype": "text/x-python",
   "name": "python",
   "nbconvert_exporter": "python",
   "pygments_lexer": "ipython3",
   "version": "3.10.12"
  }
 },
 "nbformat": 4,
 "nbformat_minor": 5
}
